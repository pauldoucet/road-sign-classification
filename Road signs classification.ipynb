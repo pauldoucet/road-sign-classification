{
 "cells": [
  {
   "cell_type": "markdown",
   "metadata": {},
   "source": [
    "# Traffic Signs classification using PyTorch and the GTSRB dataset\n",
    "Road signs classification is one of the most important task performed by an autonomous car. In this project we use PyTorch library and the German Traffic Sign Recognition Benchmark dataset in order to train a Convolutional Neural Network to recognize such signs."
   ]
  },
  {
   "cell_type": "code",
   "execution_count": 108,
   "metadata": {},
   "outputs": [
    {
     "data": {
      "application/javascript": [
       "var rate = 0;\n",
       "// apply setting to  all current CodeMirror instances\n",
       "IPython.notebook.get_cells().map(\n",
       "    function(c) {  return c.code_mirror.options.cursorBlinkRate=rate;  }\n",
       ");\n",
       "\n",
       "// make sure new CodeMirror instance also use this setting\n",
       "CodeMirror.defaults.cursorBlinkRate=rate;\n"
      ],
      "text/plain": [
       "<IPython.core.display.Javascript object>"
      ]
     },
     "metadata": {},
     "output_type": "display_data"
    }
   ],
   "source": [
    "%%javascript\n",
    "var rate = 0;\n",
    "// apply setting to  all current CodeMirror instances\n",
    "IPython.notebook.get_cells().map(\n",
    "    function(c) {  return c.code_mirror.options.cursorBlinkRate=rate;  }\n",
    ");\n",
    "\n",
    "// make sure new CodeMirror instance also use this setting\n",
    "CodeMirror.defaults.cursorBlinkRate=rate;"
   ]
  },
  {
   "cell_type": "code",
   "execution_count": 122,
   "metadata": {},
   "outputs": [],
   "source": [
    "import os\n",
    "import pandas as pd\n",
    "from torchvision.io import read_image\n",
    "import torch\n",
    "from torch.utils.data import Dataset\n",
    "import torch.nn as nn\n",
    "import torch.nn.functional as F\n",
    "from torchvision.utils import make_grid\n",
    "import numpy as np"
   ]
  },
  {
   "cell_type": "markdown",
   "metadata": {},
   "source": [
    "## 1 - Loading the dataset\n",
    "\n",
    "#### Data resizing\n",
    "The dataset contains images of different sizes, the CNN architecture choosen in this project contains fully connected layers and hence doesn't allow inputs of different sizes. Each image in our dataset has a width/height ratio close to 1, hence we can resize each image to a fix size (conserving the ratio) and then center crop the image, hence loosing few informations.\n",
    "\n",
    "#### Normalization of the images\n",
    "We use the `Dataset` and `Dataloader` modules of PyTorch in order to load the dataset. \n",
    "We need to load the dataset a first time withtout normalization in order to compute the mean and the std of the data."
   ]
  },
  {
   "cell_type": "code",
   "execution_count": 110,
   "metadata": {},
   "outputs": [],
   "source": [
    "# we extend the Dataset class in order to create our own dataset\n",
    "class RoadSignsDatasetRaw(Dataset):\n",
    "    def __init__(self, datasets_path, csv_name, image_size):\n",
    "        # read the csv file containing all the paths of the samples\n",
    "        self.metadatas = pd.read_csv(datasets_path + '/' + csv_name)\n",
    "        self.datasets_path = datasets_path\n",
    "        \n",
    "        # we sequentially resize and center crop the image (as described above)\n",
    "        self.transform = torch.nn.Sequential(\n",
    "            transforms.Resize(image_size),\n",
    "            transforms.CenterCrop(image_size)\n",
    "        )\n",
    "    \n",
    "    def __len__(self):\n",
    "        return len(self.metadatas.index)\n",
    "    \n",
    "    def __getitem__(self, idx):\n",
    "        # the path of each image is in the \"Path\" column of the dataframe\n",
    "        img_path = self.metadatas.loc[idx, \"Path\"]\n",
    "        \n",
    "        # we read each image as a tensor\n",
    "        image = read_image(self.datasets_path + '/' + img_path).float()\n",
    "        image = self.transform(image)\n",
    "        \n",
    "        # label of each feature is in the \"ClassId\" column\n",
    "        label = self.metadatas.loc[idx, \"ClassId\"]\n",
    "        return image, label"
   ]
  },
  {
   "cell_type": "code",
   "execution_count": 128,
   "metadata": {},
   "outputs": [
    {
     "name": "stdout",
     "output_type": "stream",
     "text": [
      "Mean, and std for [R, G, B] channels:\n",
      "mean = tensor([85.8447, 80.3387, 82.9710]), std = tensor([67.1220, 65.7194, 67.3007])\n"
     ]
    }
   ],
   "source": [
    "# load raw data\n",
    "train_data_raw = RoadSignsDatasetRaw(\"datasets\", \"Train.csv\", 32)\n",
    "train_dataloader_raw = DataLoader(train_data_raw, batch_size=64, shuffle=True)\n",
    "\n",
    "# get first batch of the data\n",
    "features, _ = next(iter(train_dataloader_raw))\n",
    "\n",
    "# compute mean and standard derivation\n",
    "mean, std = features.mean([0, 2, 3]), features.std([0, 2, 3])\n",
    "print(\"Mean, and std for [R, G, B] channels:\")\n",
    "print(f\"mean = {mean}, std = {std}\")\n",
    "\n",
    "mean = (mean[0], mean[1], mean[2])\n",
    "std = (std[0], std[1], std[2])\n",
    "\n",
    "nb_classes = 43"
   ]
  },
  {
   "cell_type": "markdown",
   "metadata": {},
   "source": [
    "Now that we computed the mean and standard derivation for each of the RGB channels, we can normalize the data with the built-in `transforms.Normalize` function"
   ]
  },
  {
   "cell_type": "code",
   "execution_count": 112,
   "metadata": {},
   "outputs": [],
   "source": [
    "# we extend the Dataset class in order to create our own dataset\n",
    "class RoadSignsDataset(Dataset):\n",
    "    def __init__(self, datasets_path, csv_name, image_size):\n",
    "        # read the csv file containing all the paths of the samples\n",
    "        self.metadatas = pd.read_csv(datasets_path + '/' + csv_name)\n",
    "        self.datasets_path = datasets_path\n",
    "        \n",
    "        # we sequentially resizen, center crop the image and normalize (as described above)\n",
    "        self.transform = torch.nn.Sequential(\n",
    "            transforms.Resize(image_size),\n",
    "            transforms.CenterCrop(image_size),\n",
    "            transforms.Normalize(mean, std)\n",
    "        )\n",
    "    \n",
    "    def __len__(self):\n",
    "        return len(self.metadatas.index)\n",
    "    \n",
    "    def __getitem__(self, idx):\n",
    "        img_path = self.metadatas.loc[idx, \"Path\"]\n",
    "        image = read_image(self.datasets_path + '/' + img_path).float()\n",
    "        image = self.transform(image)\n",
    "        label = self.metadatas.loc[idx, \"ClassId\"]\n",
    "        return image, label"
   ]
  },
  {
   "cell_type": "markdown",
   "metadata": {},
   "source": [
    "Now we load the normalized dataset for both training and testing. We create mini-batches of size 64 with `DataLoader` in order to reduce the converging time and to reduce overfitting."
   ]
  },
  {
   "cell_type": "code",
   "execution_count": 120,
   "metadata": {},
   "outputs": [],
   "source": [
    "from torch.utils.data import DataLoader\n",
    "from torchvision import transforms\n",
    "\n",
    "test_data = RoadSignsDataset(\"datasets\", \"Test.csv\", 32)\n",
    "train_data = RoadSignsDataset(\"datasets\", \"Train.csv\", 32)\n",
    "\n",
    "batch_size = 64\n",
    "\n",
    "test_dataloader = DataLoader(test_data, batch_size=batch_size, shuffle=True)\n",
    "train_dataloader = DataLoader(train_data, batch_size=batch_size, shuffle=True)"
   ]
  },
  {
   "cell_type": "markdown",
   "metadata": {},
   "source": [
    "We instantiate the helper function `imshow` to facilitate image displaying. (we need to un-normalize the image before plotting it)"
   ]
  },
  {
   "cell_type": "code",
   "execution_count": 114,
   "metadata": {},
   "outputs": [
    {
     "data": {
      "image/png": "[encoded data removed]",
      "text/plain": [
       "<Figure size 432x288 with 1 Axes>"
      ]
     },
     "metadata": {
      "needs_background": "light"
     },
     "output_type": "display_data"
    }
   ],
   "source": [
    "import matplotlib.pyplot as plt\n",
    "\n",
    "# Get a random batch from the training data\n",
    "batch_features, batch_labels = next(iter(train_dataloader))\n",
    "img = batch_features[0].squeeze()\n",
    "label = batch_labels[0]\n",
    "\n",
    "# Convert mean and std tuples to tensors\n",
    "meanTensor, stdTensor = torch.FloatTensor(mean), torch.FloatTensor(std)\n",
    "\n",
    "\"\"\"\n",
    "    floatTensor: tensor of the image to show\n",
    "    normalized: if the tensor is normalized or not\n",
    "\"\"\"\n",
    "def imshow(floatTensor, normalized = True):\n",
    "    if normalized == True:\n",
    "        for k in range(3):\n",
    "            for i in range(floatTensor.size(1)):\n",
    "                for j in range(floatTensor.size(2)):\n",
    "                    floatTensor[k, i, j] = floatTensor[k, i, j] * stdTensor[k] + meanTensor[k]\n",
    "    plt.imshow(floatTensor.int().permute(1, 2, 0))\n",
    "    plt.show()\n",
    "\n",
    "#print(img)\n",
    "imshow(img)"
   ]
  },
  {
   "cell_type": "markdown",
   "metadata": {},
   "source": [
    "## 2 - Building & training the CNN\n",
    "\n",
    "#### Building the CNN\n",
    "In this project we use an architecture similar to the LeNet architecture. We stack 2 convolutions layers with pooling layers between them. Notice we set the padding to 2 in order to keep the informations at the corners and edges.\n",
    "Then we use 3 fully connected layers for classification."
   ]
  },
  {
   "cell_type": "code",
   "execution_count": 115,
   "metadata": {},
   "outputs": [
    {
     "name": "stdout",
     "output_type": "stream",
     "text": [
      "==========================================================================================\n",
      "Layer (type:depth-idx)                   Output Shape              Param #\n",
      "==========================================================================================\n",
      "├─Conv2d: 1-1                            [-1, 5, 32, 32]           380\n",
      "├─Conv2d: 1-2                            [-1, 20, 16, 16]          2,520\n",
      "├─Linear: 1-3                            [-1, 120]                 153,720\n",
      "├─Linear: 1-4                            [-1, 80]                  9,680\n",
      "├─Linear: 1-5                            [-1, 43]                  3,483\n",
      "==========================================================================================\n",
      "Total params: 169,783\n",
      "Trainable params: 169,783\n",
      "Non-trainable params: 0\n",
      "Total mult-adds (M): 1.19\n",
      "==========================================================================================\n",
      "Input size (MB): 0.01\n",
      "Forward/backward pass size (MB): 0.08\n",
      "Params size (MB): 0.65\n",
      "Estimated Total Size (MB): 0.74\n",
      "==========================================================================================\n"
     ]
    },
    {
     "data": {
      "text/plain": [
       "==========================================================================================\n",
       "Layer (type:depth-idx)                   Output Shape              Param #\n",
       "==========================================================================================\n",
       "├─Conv2d: 1-1                            [-1, 5, 32, 32]           380\n",
       "├─Conv2d: 1-2                            [-1, 20, 16, 16]          2,520\n",
       "├─Linear: 1-3                            [-1, 120]                 153,720\n",
       "├─Linear: 1-4                            [-1, 80]                  9,680\n",
       "├─Linear: 1-5                            [-1, 43]                  3,483\n",
       "==========================================================================================\n",
       "Total params: 169,783\n",
       "Trainable params: 169,783\n",
       "Non-trainable params: 0\n",
       "Total mult-adds (M): 1.19\n",
       "==========================================================================================\n",
       "Input size (MB): 0.01\n",
       "Forward/backward pass size (MB): 0.08\n",
       "Params size (MB): 0.65\n",
       "Estimated Total Size (MB): 0.74\n",
       "=========================================================================================="
      ]
     },
     "execution_count": 115,
     "metadata": {},
     "output_type": "execute_result"
    }
   ],
   "source": [
    "from torchsummary import summary\n",
    "\n",
    "class convGTSRB(nn.Module):\n",
    "    def __init__(self):\n",
    "        super().__init__()\n",
    "        \n",
    "        self.conv1 = nn.Conv2d(3, 5, 5, stride = 1, padding = 2)\n",
    "        self.conv2 = nn.Conv2d(5, 20, 5, stride = 1, padding = 2)\n",
    "        \n",
    "        self.fc1 = nn.Linear(8 * 8 * 20, 120)\n",
    "        self.fc2 = nn.Linear(120, 80)\n",
    "        self.fc3 = nn.Linear(80, nb_classes)\n",
    "        \n",
    "    def forward(self, x):\n",
    "        x = F.relu(self.conv1(x))\n",
    "        x = F.max_pool2d(x, 2, 2)\n",
    "        x = F.relu(self.conv2(x))\n",
    "        x = F.max_pool2d(x, 2, 2)\n",
    "        \n",
    "        x = x.view(-1, 8 * 8 * 20)\n",
    "        \n",
    "        x = F.relu(self.fc1(x))\n",
    "        x = F.relu(self.fc2(x))\n",
    "        x = F.log_softmax(self.fc3(x), dim = 1)\n",
    "        return x\n",
    "    \n",
    "model = convGTSRB()\n",
    "\n",
    "summary(model, (3, 32, 32))"
   ]
  },
  {
   "cell_type": "code",
   "execution_count": 116,
   "metadata": {},
   "outputs": [],
   "source": [
    "criterion = nn.CrossEntropyLoss()\n",
    "optimizer = torch.optim.Adam(model.parameters(), lr = 0.001)\n",
    "epochs = 3 # number of epochs"
   ]
  },
  {
   "cell_type": "markdown",
   "metadata": {},
   "source": [
    "#### Optimization of our model\n",
    "We iterate over the epochs and for each batch we compute the gradient. Then we compute the loss"
   ]
  },
  {
   "cell_type": "code",
   "execution_count": 117,
   "metadata": {},
   "outputs": [
    {
     "name": "stdout",
     "output_type": "stream",
     "text": [
      "------ epoch n°1 ------\n",
      "epoch n°1, batch n°50 loss is 3.4607653999328614\n",
      "epoch n°1, batch n°100 loss is 3.0017519283294676\n",
      "epoch n°1, batch n°150 loss is 2.2832818269729613\n",
      "epoch n°1, batch n°200 loss is 1.6834916424751283\n",
      "epoch n°1, batch n°250 loss is 1.3478814435005189\n",
      "epoch n°1, batch n°300 loss is 1.0770313227176667\n",
      "epoch n°1, batch n°350 loss is 0.8690482997894287\n",
      "epoch n°1, batch n°400 loss is 0.7908832281827927\n",
      "epoch n°1, batch n°450 loss is 0.6308280074596405\n",
      "epoch n°1, batch n°500 loss is 0.5725690174102783\n",
      "epoch n°1, batch n°550 loss is 0.5846407717466354\n",
      "epoch n°1, batch n°600 loss is 0.4610788881778717\n",
      "------ epoch n°2 ------\n",
      "epoch n°2, batch n°50 loss is 0.3837666646355674\n",
      "epoch n°2, batch n°100 loss is 0.36784004837274553\n",
      "epoch n°2, batch n°150 loss is 0.3545196342468262\n",
      "epoch n°2, batch n°200 loss is 0.37875905364751816\n",
      "epoch n°2, batch n°250 loss is 0.27806396782398224\n",
      "epoch n°2, batch n°300 loss is 0.2953815197944641\n",
      "epoch n°2, batch n°350 loss is 0.2740203793346882\n",
      "epoch n°2, batch n°400 loss is 0.24617452695965766\n",
      "epoch n°2, batch n°450 loss is 0.23696358114480973\n",
      "epoch n°2, batch n°500 loss is 0.23912025578320026\n",
      "epoch n°2, batch n°550 loss is 0.23697134785354138\n",
      "epoch n°2, batch n°600 loss is 0.21289604395627976\n",
      "------ epoch n°3 ------\n",
      "epoch n°3, batch n°50 loss is 0.16831911148296463\n",
      "epoch n°3, batch n°100 loss is 0.1424696069955826\n",
      "epoch n°3, batch n°150 loss is 0.153237471729517\n",
      "epoch n°3, batch n°200 loss is 0.1568691896647215\n",
      "epoch n°3, batch n°250 loss is 0.17799666956067084\n",
      "epoch n°3, batch n°300 loss is 0.13167075619101523\n",
      "epoch n°3, batch n°350 loss is 0.14981052730232478\n",
      "epoch n°3, batch n°400 loss is 0.144891834333539\n",
      "epoch n°3, batch n°450 loss is 0.1403333518281579\n",
      "epoch n°3, batch n°500 loss is 0.14058104187250137\n",
      "epoch n°3, batch n°550 loss is 0.1039698364213109\n",
      "epoch n°3, batch n°600 loss is 0.12613788895308972\n"
     ]
    }
   ],
   "source": [
    "sum_loss = 0\n",
    "n = 0\n",
    "\n",
    "for epoch in range(epochs):\n",
    "    print(f\"------ epoch n°{epoch + 1} ------\")\n",
    "    for b, data in enumerate(train_dataloader):\n",
    "        inputs, labels = data\n",
    "        \n",
    "        # Zero the gradient\n",
    "        optimizer.zero_grad()\n",
    "        \n",
    "        # Pass the inputs to the model\n",
    "        outputs = model(inputs)\n",
    "        \n",
    "        # Compute the loss \n",
    "        loss = criterion(outputs, labels)\n",
    "        \n",
    "        # Get the loss gradient\n",
    "        loss.backward()\n",
    "        \n",
    "        # Optimize the model\n",
    "        optimizer.step()\n",
    "        \n",
    "        # Compute the loss over the batches\n",
    "        sum_loss += loss.item()\n",
    "        n += 1\n",
    "        if b % 50 == 49:\n",
    "            print(f\"epoch n°{epoch + 1}, batch n°{b + 1} loss is {sum_loss / n}\")\n",
    "            n = 0\n",
    "            sum_loss = 0"
   ]
  },
  {
   "cell_type": "markdown",
   "metadata": {},
   "source": [
    "We can see a quick visualization below of how our model perform."
   ]
  },
  {
   "cell_type": "code",
   "execution_count": 118,
   "metadata": {},
   "outputs": [
    {
     "data": {
      "image/png": "[encoded data removed]",
      "text/plain": [
       "<Figure size 432x288 with 1 Axes>"
      ]
     },
     "metadata": {
      "needs_background": "light"
     },
     "output_type": "display_data"
    },
    {
     "name": "stdout",
     "output_type": "stream",
     "text": [
      "Actual:\n",
      "[tensor(31), tensor(24), tensor(20), tensor(17), tensor(30), tensor(4), tensor(25), tensor(17)]\n",
      "Predicted:\n",
      "[tensor(31), tensor(31), tensor(20), tensor(17), tensor(23), tensor(4), tensor(25), tensor(17)]\n"
     ]
    }
   ],
   "source": [
    "images, labels = next(iter(test_dataloader))\n",
    "\n",
    "n = 8\n",
    "imshow(make_grid(images[:n]))\n",
    "\n",
    "print(\"Actual:\")\n",
    "print([labels[i] for i in range(n)])\n",
    "\n",
    "with torch.no_grad():\n",
    "    outputs = model(images)\n",
    "\n",
    "_, predicted = torch.max(outputs, 1)\n",
    "\n",
    "print(\"Predicted:\")\n",
    "print([predicted[i] for i in range(n)])"
   ]
  },
  {
   "cell_type": "markdown",
   "metadata": {},
   "source": [
    "## 3 - Model evaluation\n",
    "Below we compute the total accuracy of our model and the precision & recall for each of the classes."
   ]
  },
  {
   "cell_type": "code",
   "execution_count": 142,
   "metadata": {
    "scrolled": true
   },
   "outputs": [
    {
     "name": "stdout",
     "output_type": "stream",
     "text": [
      "batch n°25 has 59 correct out of 64\n",
      "batch n°50 has 56 correct out of 64\n",
      "batch n°75 has 60 correct out of 64\n",
      "batch n°100 has 54 correct out of 64\n",
      "batch n°125 has 57 correct out of 64\n",
      "batch n°150 has 52 correct out of 64\n",
      "batch n°175 has 53 correct out of 64\n",
      "\n",
      "20km                           recall: 0.47, precision: 0.74\n",
      "30km                           recall: 0.91, precision: 0.86\n",
      "50km                           recall: 0.92, precision: 0.88\n",
      "60km                           recall: 0.82, precision: 0.96\n",
      "70km                           recall: 0.86, precision: 0.95\n",
      "80km                           recall: 0.76, precision: 0.83\n",
      "end_80km                       recall: 0.75, precision: 0.97\n",
      "100km                          recall: 0.89, precision: 0.70\n",
      "120km                          recall: 0.78, precision: 0.89\n",
      "no_overtake_cars               recall: 0.89, precision: 0.95\n",
      "no_overtake_trucks             recall: 0.97, precision: 0.87\n",
      "crossroad                      recall: 0.96, precision: 0.75\n",
      "priority_road                  recall: 0.98, precision: 0.90\n",
      "yield_to_others                recall: 0.96, precision: 0.96\n",
      "stop                           recall: 0.92, precision: 0.98\n",
      "forbidden                      recall: 0.81, precision: 0.96\n",
      "trucks_forbidden               recall: 0.97, precision: 0.99\n",
      "road_forbidden                 recall: 0.95, precision: 0.97\n",
      "danger                         recall: 0.62, precision: 0.98\n",
      "left_turn                      recall: 0.95, precision: 0.72\n",
      "right_turn                     recall: 0.94, precision: 0.75\n",
      "left_right_turn                recall: 0.47, precision: 0.43\n",
      "speed_bump                     recall: 0.90, precision: 0.88\n",
      "icy_road                       recall: 0.61, precision: 0.75\n",
      "road_reduction                 recall: 0.27, precision: 0.59\n",
      "workers                        recall: 0.86, precision: 0.96\n",
      "traffic_light                  recall: 0.88, precision: 0.75\n",
      "crosswalk                      recall: 0.50, precision: 0.67\n",
      "children                       recall: 0.86, precision: 0.65\n",
      "bycicles                       recall: 0.94, precision: 0.70\n",
      "ice                            recall: 0.56, precision: 0.66\n",
      "wildlife                       recall: 1.00, precision: 0.77\n",
      "end_forbidden                  recall: 0.67, precision: 0.53\n",
      "turn_right                     recall: 0.98, precision: 0.88\n",
      "turn_left                      recall: 0.99, precision: 0.60\n",
      "go_straight                    recall: 0.94, precision: 0.90\n",
      "go_straight_or_right           recall: 0.99, precision: 0.92\n",
      "go_straight_or_left            recall: 0.52, precision: 1.00\n",
      "go_slightly_right              recall: 0.87, precision: 0.99\n",
      "go_slightly_left               recall: 0.72, precision: 0.76\n",
      "roundabout                     recall: 0.89, precision: 0.88\n",
      "end_no_overtake_cars           recall: 0.55, precision: 0.70\n",
      "end_no_overtake_trucks         recall: 0.82, precision: 1.00\n",
      "\n",
      "accuracy of the model is : 0.8661916072842438\n"
     ]
    }
   ],
   "source": [
    "n = 0\n",
    "correct = 0\n",
    "b = 0\n",
    "\n",
    "class_names = [\"20km\", \"30km\", \"50km\", \"60km\", \"70km\", \"80km\", \"end_80km\", \"100km\", \"120km\", \"no_overtake_cars\",\n",
    "              \"no_overtake_trucks\", \"crossroad\", \"priority_road\", \"yield_to_others\", \"stop\", \"forbidden\", \"trucks_forbidden\",\n",
    "              \"road_forbidden\", \"danger\", \"left_turn\", \"right_turn\", \"left_right_turn\", \"speed_bump\",\n",
    "              \"icy_road\", \"road_reduction\", \"workers\", \"traffic_light\", \"crosswalk\", \"children\", \"bycicles\",\n",
    "              \"ice\", \"wildlife\", \"end_forbidden\", \"turn_right\", \"turn_left\", \"go_straight\", \"go_straight_or_right\",\n",
    "              \"go_straight_or_left\", \"go_slightly_right\", \"go_slightly_left\", \"roundabout\", \"end_no_overtake_cars\",\n",
    "              \"end_no_overtake_trucks\"]\n",
    "\n",
    "# Create a performance table to store number of correctly and incorrectly classified samples\n",
    "# for each class\n",
    "# column 0 is the true positive\n",
    "# column 1 is the false negative\n",
    "# column 2 is the false positive\n",
    "performance = np.zeros([nb_classes, 3])\n",
    "\n",
    "\n",
    "with torch.no_grad():\n",
    "    for test_batch in test_dataloader:\n",
    "        b += 1\n",
    "        batch_correct = 0\n",
    "        images, labels = test_batch\n",
    "\n",
    "        # pass each batch to the trained model\n",
    "        outputs = model(images)\n",
    "        \n",
    "        # get the predicted class as an int\n",
    "        _, predictions = torch.max(outputs, 1)\n",
    "        \n",
    "        n += labels.size(0)\n",
    "        batch_n = labels.size(0)\n",
    "        for i in range(labels.size(0)):\n",
    "            if predictions[i] == labels[i]:\n",
    "                correct += 1\n",
    "                batch_correct += 1\n",
    "                performance[predictions[i], 0] += 1\n",
    "            else:\n",
    "                performance[labels[i], 1] += 1\n",
    "                performance[predictions[i], 2] += 1\n",
    "\n",
    "        if b % 25 == 0:\n",
    "            print(f\"batch n°{b} has {batch_correct} correct out of {batch_n}\")\n",
    "\n",
    "print(\"\")\n",
    "\n",
    "# Compute and display the recall & precision for each class\n",
    "for i in range(nb_classes):\n",
    "    recall = performance[i, 0] / (performance[i, 0] + performance[i, 1])\n",
    "    precision = performance[i, 0] / (performance[i, 0] + performance[i, 2])\n",
    "    print(f\"{class_names[i]:<25}      recall: {recall:.2f}, precision: {precision:.2f}\")\n",
    "    \n",
    "print(\"\")\n",
    "print(f\"accuracy of the model is : {correct / n}\")"
   ]
  },
  {
   "cell_type": "markdown",
   "metadata": {},
   "source": [
    "#### Interpretation of the recall & precision\n",
    "As we can see above, our model got a very low recall for the 20km sign"
   ]
  },
  {
   "cell_type": "markdown",
   "metadata": {},
   "source": [
    "Finally we save our model in a separate file."
   ]
  },
  {
   "cell_type": "code",
   "execution_count": 17,
   "metadata": {},
   "outputs": [],
   "source": [
    "path = \"models/884acc\"\n",
    "torch.save(model.state_dict(), path)"
   ]
  },
  {
   "cell_type": "code",
   "execution_count": null,
   "metadata": {},
   "outputs": [],
   "source": []
  }
 ],
 "metadata": {
  "kernelspec": {
   "display_name": "Python 3",
   "language": "python",
   "name": "python3"
  },
  "language_info": {
   "codemirror_mode": {
    "name": "ipython",
    "version": 3
   },
   "file_extension": ".py",
   "mimetype": "text/x-python",
   "name": "python",
   "nbconvert_exporter": "python",
   "pygments_lexer": "ipython3",
   "version": "3.8.3"
  }
 },
 "nbformat": 4,
 "nbformat_minor": 4
}
