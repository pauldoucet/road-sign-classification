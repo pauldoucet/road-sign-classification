{
 "cells": [
  {
   "cell_type": "markdown",
   "metadata": {},
   "source": [
    "# Road Signs classification using PyTorch and the GTSRB dataset"
   ]
  },
  {
   "cell_type": "code",
   "execution_count": 150,
   "metadata": {},
   "outputs": [
    {
     "data": {
      "application/javascript": [
       "var rate = 0;\n",
       "// apply setting to  all current CodeMirror instances\n",
       "IPython.notebook.get_cells().map(\n",
       "    function(c) {  return c.code_mirror.options.cursorBlinkRate=rate;  }\n",
       ");\n",
       "\n",
       "// make sure new CodeMirror instance also use this setting\n",
       "CodeMirror.defaults.cursorBlinkRate=rate;\n"
      ],
      "text/plain": [
       "<IPython.core.display.Javascript object>"
      ]
     },
     "metadata": {},
     "output_type": "display_data"
    }
   ],
   "source": [
    "%%javascript\n",
    "var rate = 0;\n",
    "// apply setting to  all current CodeMirror instances\n",
    "IPython.notebook.get_cells().map(\n",
    "    function(c) {  return c.code_mirror.options.cursorBlinkRate=rate;  }\n",
    ");\n",
    "\n",
    "// make sure new CodeMirror instance also use this setting\n",
    "CodeMirror.defaults.cursorBlinkRate=rate;"
   ]
  },
  {
   "cell_type": "code",
   "execution_count": 151,
   "metadata": {},
   "outputs": [],
   "source": [
    "import os\n",
    "import pandas as pd\n",
    "from torchvision.io import read_image\n",
    "import torch\n",
    "from torch.utils.data import Dataset\n",
    "import torch.nn as nn\n",
    "import torch.nn.functional as F\n",
    "from torchvision.utils import make_grid"
   ]
  },
  {
   "cell_type": "code",
   "execution_count": 152,
   "metadata": {},
   "outputs": [],
   "source": [
    "class RoadSignsDataset(Dataset):\n",
    "    def __init__(self, datasets_path, csv_name):\n",
    "        self.metadatas = pd.read_csv(datasets_path + '/' + csv_name)\n",
    "        self.datasets_path = datasets_path\n",
    "        self.transform = torch.nn.Sequential(\n",
    "            transforms.Resize(64),\n",
    "            transforms.CenterCrop(64)#,\n",
    "            #transforms.Normalize((0.485 * 255, 0.456 * 255, 0.406 * 255), (0.229 * 255, 0.224 * 255, 0.225 * 255))\n",
    "        )\n",
    "    \n",
    "    def __len__(self):\n",
    "        return len(self.metadatas.index)\n",
    "    \n",
    "    def __getitem__(self, idx):\n",
    "        img_path = self.metadatas.loc[idx, \"Path\"]\n",
    "        image = read_image(self.datasets_path + '/' + img_path).float()\n",
    "        image = self.transform(image)\n",
    "        label = self.metadatas.loc[idx, \"ClassId\"]\n",
    "        return image, label"
   ]
  },
  {
   "cell_type": "code",
   "execution_count": 153,
   "metadata": {},
   "outputs": [],
   "source": [
    "from torch.utils.data import DataLoader\n",
    "from torchvision import transforms\n",
    "\n",
    "test_data = RoadSignsDataset(\"datasets\", \"Test.csv\")\n",
    "train_data = RoadSignsDataset(\"datasets\", \"Train.csv\")\n",
    "\n",
    "test_dataloader = DataLoader(test_data, batch_size=64, shuffle=True)\n",
    "train_dataloader = DataLoader(train_data, batch_size=64, shuffle=True)"
   ]
  },
  {
   "cell_type": "code",
   "execution_count": 162,
   "metadata": {},
   "outputs": [
    {
     "data": {
      "image/png": "[encoded data removed]",
      "text/plain": [
       "<Figure size 432x288 with 1 Axes>"
      ]
     },
     "metadata": {
      "needs_background": "light"
     },
     "output_type": "display_data"
    }
   ],
   "source": [
    "import matplotlib.pyplot as plt\n",
    "\n",
    "batch_features, batch_labels = next(iter(train_dataloader))\n",
    "img = batch_features[0].squeeze()\n",
    "label = batch_labels[0]\n",
    "#print(img)\n",
    "#plt.imshow(img.int().permute(1, 2, 0))\n",
    "#plt.show()\n",
    "\n",
    "def imshow(floatTensor):\n",
    "    plt.imshow(floatTensor.int().permute(1, 2, 0))\n",
    "    plt.show()\n",
    "    \n",
    "imshow(img)"
   ]
  },
  {
   "cell_type": "code",
   "execution_count": 168,
   "metadata": {},
   "outputs": [
    {
     "name": "stdout",
     "output_type": "stream",
     "text": [
      "==========================================================================================\n",
      "Layer (type:depth-idx)                   Output Shape              Param #\n",
      "==========================================================================================\n",
      "├─Conv2d: 1-1                            [-1, 5, 60, 60]           380\n",
      "├─Conv2d: 1-2                            [-1, 20, 28, 28]          920\n",
      "├─Linear: 1-3                            [-1, 120]                 470,520\n",
      "├─Linear: 1-4                            [-1, 80]                  9,680\n",
      "├─Linear: 1-5                            [-1, 43]                  3,483\n",
      "==========================================================================================\n",
      "Total params: 484,983\n",
      "Trainable params: 484,983\n",
      "Non-trainable params: 0\n",
      "Total mult-adds (M): 2.54\n",
      "==========================================================================================\n",
      "Input size (MB): 0.05\n",
      "Forward/backward pass size (MB): 0.26\n",
      "Params size (MB): 1.85\n",
      "Estimated Total Size (MB): 2.16\n",
      "==========================================================================================\n"
     ]
    },
    {
     "data": {
      "text/plain": [
       "==========================================================================================\n",
       "Layer (type:depth-idx)                   Output Shape              Param #\n",
       "==========================================================================================\n",
       "├─Conv2d: 1-1                            [-1, 5, 60, 60]           380\n",
       "├─Conv2d: 1-2                            [-1, 20, 28, 28]          920\n",
       "├─Linear: 1-3                            [-1, 120]                 470,520\n",
       "├─Linear: 1-4                            [-1, 80]                  9,680\n",
       "├─Linear: 1-5                            [-1, 43]                  3,483\n",
       "==========================================================================================\n",
       "Total params: 484,983\n",
       "Trainable params: 484,983\n",
       "Non-trainable params: 0\n",
       "Total mult-adds (M): 2.54\n",
       "==========================================================================================\n",
       "Input size (MB): 0.05\n",
       "Forward/backward pass size (MB): 0.26\n",
       "Params size (MB): 1.85\n",
       "Estimated Total Size (MB): 2.16\n",
       "=========================================================================================="
      ]
     },
     "execution_count": 168,
     "metadata": {},
     "output_type": "execute_result"
    }
   ],
   "source": [
    "from torchsummary import summary\n",
    "\n",
    "class convGTSRB(nn.Module):\n",
    "    def __init__(self):\n",
    "        super().__init__()\n",
    "        \n",
    "        self.conv1 = nn.Conv2d(3, 5, 5, 1)\n",
    "        self.conv2 = nn.Conv2d(5, 20, 3, 1)\n",
    "        \n",
    "        self.fc1 = nn.Linear(14 * 14 * 20, 120)\n",
    "        self.fc2 = nn.Linear(120, 80)\n",
    "        self.fc3 = nn.Linear(80, 43)\n",
    "        \n",
    "    def forward(self, x):\n",
    "        x = F.relu(self.conv1(x))\n",
    "        x = F.max_pool2d(x, 2, 2)\n",
    "        x = F.relu(self.conv2(x))\n",
    "        x = F.max_pool2d(x, 2, 2)\n",
    "        \n",
    "        x = x.view(-1, 14 * 14 * 20)\n",
    "        \n",
    "        x = F.relu(self.fc1(x))\n",
    "        x = F.relu(self.fc2(x))\n",
    "        x = F.log_softmax(self.fc3(x), dim = 1)\n",
    "        return x\n",
    "    \n",
    "model = convGTSRB()\n",
    "summary(model, (3, 64, 64))"
   ]
  },
  {
   "cell_type": "code",
   "execution_count": 156,
   "metadata": {},
   "outputs": [],
   "source": [
    "criterion = nn.CrossEntropyLoss()\n",
    "optimizer = torch.optim.Adam(model.parameters(), lr = 0.001)\n",
    "epochs = 2 # number of epochs"
   ]
  },
  {
   "cell_type": "code",
   "execution_count": 157,
   "metadata": {},
   "outputs": [
    {
     "name": "stdout",
     "output_type": "stream",
     "text": [
      "epoch n°1, batch n°10 loss is 4.050504159927368\n",
      "epoch n°1, batch n°20 loss is 3.6663852453231813\n",
      "epoch n°1, batch n°30 loss is 3.511002278327942\n",
      "epoch n°1, batch n°40 loss is 3.451927971839905\n",
      "epoch n°1, batch n°50 loss is 3.4092453718185425\n",
      "epoch n°1, batch n°60 loss is 3.2607296466827393\n",
      "epoch n°1, batch n°70 loss is 3.242733526229858\n",
      "epoch n°1, batch n°80 loss is 3.1472708940505982\n",
      "epoch n°1, batch n°90 loss is 3.0743287801742554\n",
      "epoch n°1, batch n°100 loss is 3.0633458375930784\n",
      "epoch n°1, batch n°110 loss is 2.985724997520447\n",
      "epoch n°1, batch n°120 loss is 2.9508342027664183\n",
      "epoch n°1, batch n°130 loss is 2.807227897644043\n",
      "epoch n°1, batch n°140 loss is 2.622166109085083\n",
      "epoch n°1, batch n°150 loss is 2.7060540199279783\n",
      "epoch n°1, batch n°160 loss is 2.5670732736587523\n",
      "epoch n°1, batch n°170 loss is 2.476511001586914\n",
      "epoch n°1, batch n°180 loss is 2.4828233242034914\n",
      "epoch n°1, batch n°190 loss is 2.356500244140625\n",
      "epoch n°1, batch n°200 loss is 2.405860495567322\n",
      "epoch n°1, batch n°210 loss is 2.1984679341316222\n",
      "epoch n°1, batch n°220 loss is 2.1857178807258606\n",
      "epoch n°1, batch n°230 loss is 2.104155719280243\n",
      "epoch n°1, batch n°240 loss is 2.0823619961738586\n",
      "epoch n°1, batch n°250 loss is 2.0156549215316772\n",
      "epoch n°1, batch n°260 loss is 1.951818060874939\n",
      "epoch n°1, batch n°270 loss is 1.9165783405303956\n",
      "epoch n°1, batch n°280 loss is 1.9236207365989686\n",
      "epoch n°1, batch n°290 loss is 1.818164598941803\n",
      "epoch n°1, batch n°300 loss is 1.7204834461212157\n",
      "epoch n°1, batch n°310 loss is 1.632600998878479\n",
      "epoch n°1, batch n°320 loss is 1.5818994402885438\n",
      "epoch n°1, batch n°330 loss is 1.592292809486389\n",
      "epoch n°1, batch n°340 loss is 1.5075483560562133\n",
      "epoch n°1, batch n°350 loss is 1.517007291316986\n",
      "epoch n°1, batch n°360 loss is 1.2909195303916932\n",
      "epoch n°1, batch n°370 loss is 1.3098298609256744\n",
      "epoch n°1, batch n°380 loss is 1.3684219479560853\n",
      "epoch n°1, batch n°390 loss is 1.2843698561191559\n",
      "epoch n°1, batch n°400 loss is 1.244045913219452\n",
      "epoch n°1, batch n°410 loss is 1.1884676158428191\n",
      "epoch n°1, batch n°420 loss is 1.1871322631835937\n",
      "epoch n°1, batch n°430 loss is 1.186590737104416\n",
      "epoch n°1, batch n°440 loss is 1.1938556551933288\n",
      "epoch n°1, batch n°450 loss is 1.042972058057785\n",
      "epoch n°1, batch n°460 loss is 1.093557095527649\n",
      "epoch n°1, batch n°470 loss is 1.044248676300049\n",
      "epoch n°1, batch n°480 loss is 1.0844022333621979\n",
      "epoch n°1, batch n°490 loss is 1.0628706753253936\n",
      "epoch n°1, batch n°500 loss is 0.9888774394989014\n",
      "epoch n°1, batch n°510 loss is 1.0338772535324097\n",
      "epoch n°1, batch n°520 loss is 0.8476037859916687\n",
      "epoch n°1, batch n°530 loss is 0.891830849647522\n",
      "epoch n°1, batch n°540 loss is 0.9295055031776428\n",
      "epoch n°1, batch n°550 loss is 0.9427953481674194\n",
      "epoch n°1, batch n°560 loss is 0.8768907427787781\n",
      "epoch n°1, batch n°570 loss is 0.8244316577911377\n",
      "epoch n°1, batch n°580 loss is 0.838541567325592\n",
      "epoch n°1, batch n°590 loss is 0.8559785783290863\n",
      "epoch n°1, batch n°600 loss is 0.8440110981464386\n",
      "epoch n°1, batch n°610 loss is 0.8480917155742645\n",
      "epoch n°2, batch n°10 loss is 0.7042568325996399\n",
      "epoch n°2, batch n°20 loss is 0.7390329599380493\n",
      "epoch n°2, batch n°30 loss is 0.6154331177473068\n",
      "epoch n°2, batch n°40 loss is 0.6596280872821808\n",
      "epoch n°2, batch n°50 loss is 0.6489890158176422\n",
      "epoch n°2, batch n°60 loss is 0.6231246560811996\n",
      "epoch n°2, batch n°70 loss is 0.6932311654090881\n",
      "epoch n°2, batch n°80 loss is 0.6930586874485016\n",
      "epoch n°2, batch n°90 loss is 0.6182174354791641\n",
      "epoch n°2, batch n°100 loss is 0.6320265620946884\n",
      "epoch n°2, batch n°110 loss is 0.6391747653484344\n",
      "epoch n°2, batch n°120 loss is 0.5710103273391723\n",
      "epoch n°2, batch n°130 loss is 0.5777241617441178\n",
      "epoch n°2, batch n°140 loss is 0.6310141533613205\n",
      "epoch n°2, batch n°150 loss is 0.5874104291200638\n",
      "epoch n°2, batch n°160 loss is 0.527085828781128\n",
      "epoch n°2, batch n°170 loss is 0.5289089918136597\n",
      "epoch n°2, batch n°180 loss is 0.6317232340574265\n",
      "epoch n°2, batch n°190 loss is 0.5500456392765045\n",
      "epoch n°2, batch n°200 loss is 0.5114967852830887\n",
      "epoch n°2, batch n°210 loss is 0.52825568318367\n",
      "epoch n°2, batch n°220 loss is 0.5983844012022018\n",
      "epoch n°2, batch n°230 loss is 0.6077006489038468\n",
      "epoch n°2, batch n°240 loss is 0.5030963689088821\n",
      "epoch n°2, batch n°250 loss is 0.5682522624731063\n",
      "epoch n°2, batch n°260 loss is 0.5589097678661347\n",
      "epoch n°2, batch n°270 loss is 0.5548467755317688\n",
      "epoch n°2, batch n°280 loss is 0.5099821001291275\n",
      "epoch n°2, batch n°290 loss is 0.5781662613153458\n",
      "epoch n°2, batch n°300 loss is 0.5442159652709961\n",
      "epoch n°2, batch n°310 loss is 0.5319204479455948\n",
      "epoch n°2, batch n°320 loss is 0.5218781471252442\n",
      "epoch n°2, batch n°330 loss is 0.4458096459507942\n",
      "epoch n°2, batch n°340 loss is 0.47306428849697113\n",
      "epoch n°2, batch n°350 loss is 0.44558232128620145\n",
      "epoch n°2, batch n°360 loss is 0.40124179124832154\n",
      "epoch n°2, batch n°370 loss is 0.4850669264793396\n",
      "epoch n°2, batch n°380 loss is 0.44712711572647096\n",
      "epoch n°2, batch n°390 loss is 0.5162915498018265\n",
      "epoch n°2, batch n°400 loss is 0.458752503991127\n",
      "epoch n°2, batch n°410 loss is 0.4049739450216293\n",
      "epoch n°2, batch n°420 loss is 0.4345278710126877\n",
      "epoch n°2, batch n°430 loss is 0.43348517417907717\n",
      "epoch n°2, batch n°440 loss is 0.4691304787993431\n",
      "epoch n°2, batch n°450 loss is 0.4083386600017548\n",
      "epoch n°2, batch n°460 loss is 0.47740753293037413\n",
      "epoch n°2, batch n°470 loss is 0.4393700838088989\n",
      "epoch n°2, batch n°480 loss is 0.3939118176698685\n",
      "epoch n°2, batch n°490 loss is 0.38025148659944535\n",
      "epoch n°2, batch n°500 loss is 0.49490857422351836\n",
      "epoch n°2, batch n°510 loss is 0.4818056032061577\n",
      "epoch n°2, batch n°520 loss is 0.39471444934606553\n",
      "epoch n°2, batch n°530 loss is 0.39860104620456693\n",
      "epoch n°2, batch n°540 loss is 0.4637160062789917\n",
      "epoch n°2, batch n°550 loss is 0.41510944068431854\n",
      "epoch n°2, batch n°560 loss is 0.45267810523509977\n",
      "epoch n°2, batch n°570 loss is 0.3816694378852844\n",
      "epoch n°2, batch n°580 loss is 0.3920258492231369\n",
      "epoch n°2, batch n°590 loss is 0.36935971975326537\n",
      "epoch n°2, batch n°600 loss is 0.4440507933497429\n",
      "epoch n°2, batch n°610 loss is 0.3140707552433014\n"
     ]
    }
   ],
   "source": [
    "sum_loss = 0\n",
    "n = 0\n",
    "\n",
    "for epoch in range(epochs):\n",
    "    for b, data in enumerate(train_dataloader):\n",
    "        inputs, labels = data\n",
    "        \n",
    "        optimizer.zero_grad()\n",
    "        \n",
    "        outputs = model(inputs)\n",
    "        #print(outputs.shape)\n",
    "        loss = criterion(outputs, labels)\n",
    "        loss.backward()\n",
    "        optimizer.step()\n",
    "        \n",
    "        sum_loss += loss.item()\n",
    "        n += 1\n",
    "        if b % 10 == 9:\n",
    "            print(f\"epoch n°{epoch + 1}, batch n°{b + 1} loss is {sum_loss / n}\")\n",
    "            n = 0\n",
    "            sum_loss = 0"
   ]
  },
  {
   "cell_type": "code",
   "execution_count": 158,
   "metadata": {},
   "outputs": [
    {
     "data": {
      "image/png": "[encoded data removed]",
      "text/plain": [
       "<Figure size 432x288 with 1 Axes>"
      ]
     },
     "metadata": {
      "needs_background": "light"
     },
     "output_type": "display_data"
    },
    {
     "name": "stdout",
     "output_type": "stream",
     "text": [
      "Actual:\n",
      "[tensor(39), tensor(4), tensor(13), tensor(7), tensor(5), tensor(8), tensor(12), tensor(8)]\n",
      "Predicted:\n",
      "[tensor(39), tensor(4), tensor(13), tensor(7), tensor(23), tensor(8), tensor(12), tensor(8)]\n"
     ]
    }
   ],
   "source": [
    "images, labels = next(iter(test_dataloader))\n",
    "\n",
    "n = 8\n",
    "\n",
    "plt.imshow(make_grid(images[:n]).int().permute(1, 2, 0))\n",
    "plt.show()\n",
    "\n",
    "print(\"Actual:\")\n",
    "print([labels[i] for i in range(n)])\n",
    "\n",
    "outputs = model(images)\n",
    "\n",
    "_, predicted = torch.max(outputs, 1)\n",
    "\n",
    "print(\"Predicted:\")\n",
    "print([predicted[i] for i in range(n)])"
   ]
  },
  {
   "cell_type": "code",
   "execution_count": 159,
   "metadata": {},
   "outputs": [
    {
     "name": "stdout",
     "output_type": "stream",
     "text": [
      "batch n°25 has 56 correct out of 64\n",
      "batch n°50 has 54 correct out of 64\n",
      "batch n°75 has 52 correct out of 64\n",
      "batch n°100 has 55 correct out of 64\n",
      "batch n°125 has 49 correct out of 64\n",
      "batch n°150 has 54 correct out of 64\n",
      "batch n°175 has 52 correct out of 64\n",
      "accuracy of the model is : 0.8340459224069675\n"
     ]
    }
   ],
   "source": [
    "n = 0\n",
    "correct = 0\n",
    "b = 0\n",
    "\n",
    "for test_batch in test_dataloader:\n",
    "    b += 1\n",
    "    batch_correct = 0\n",
    "    images, labels = test_batch\n",
    "    \n",
    "    outputs = model(images)\n",
    "    _, predictions = torch.max(outputs, 1)\n",
    "    n += labels.size(0)\n",
    "    batch_n = labels.size(0)\n",
    "    for i in range(labels.size(0)):\n",
    "        if predictions[i] == labels[i]:\n",
    "            correct += 1\n",
    "            batch_correct += 1\n",
    "            \n",
    "    if b % 25 == 0:\n",
    "        print(f\"batch n°{b} has {batch_correct} correct out of {batch_n}\")\n",
    "            \n",
    "print(f\"accuracy of the model is : {correct / n}\")"
   ]
  },
  {
   "cell_type": "code",
   "execution_count": 160,
   "metadata": {},
   "outputs": [],
   "source": [
    "path = \"models/834acc\"\n",
    "torch.save(model.state_dict(), path)"
   ]
  },
  {
   "cell_type": "code",
   "execution_count": null,
   "metadata": {},
   "outputs": [],
   "source": []
  }
 ],
 "metadata": {
  "kernelspec": {
   "display_name": "Python 3",
   "language": "python",
   "name": "python3"
  },
  "language_info": {
   "codemirror_mode": {
    "name": "ipython",
    "version": 3
   },
   "file_extension": ".py",
   "mimetype": "text/x-python",
   "name": "python",
   "nbconvert_exporter": "python",
   "pygments_lexer": "ipython3",
   "version": "3.8.3"
  }
 },
 "nbformat": 4,
 "nbformat_minor": 4
}
